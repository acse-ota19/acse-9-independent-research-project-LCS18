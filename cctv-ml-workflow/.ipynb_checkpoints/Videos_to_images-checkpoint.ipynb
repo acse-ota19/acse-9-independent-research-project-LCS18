{
 "cells": [
  {
   "cell_type": "markdown",
   "metadata": {},
   "source": [
    "# Imports"
   ]
  },
  {
   "cell_type": "code",
   "execution_count": 19,
   "metadata": {},
   "outputs": [],
   "source": [
    "\"\"\"Laura Su (GitHub: LCS18)\"\"\"\n",
    "\n",
    "import numpy as np\n",
    "import matplotlib.pyplot as plt\n",
    "import cv2\n",
    "import os"
   ]
  },
  {
   "cell_type": "markdown",
   "metadata": {},
   "source": [
    "# Reading a video and get the frames"
   ]
  },
  {
   "cell_type": "markdown",
   "metadata": {},
   "source": [
    "## Creating a folder"
   ]
  },
  {
   "cell_type": "code",
   "execution_count": 20,
   "metadata": {},
   "outputs": [],
   "source": [
    "# If you want to create a dedicated folder directly from Python\n",
    "dir_name = \"example\" # insert the name of the directory you want to create\n",
    "\n",
    "if not os.path.exists(dir_name):\n",
    "    os.mkdir(dir_name)"
   ]
  },
  {
   "cell_type": "markdown",
   "metadata": {},
   "source": [
    "## Producing images"
   ]
  },
  {
   "cell_type": "code",
   "execution_count": 14,
   "metadata": {},
   "outputs": [],
   "source": [
    "# Filename of the .mp4 video to open\n",
    "video_dir = \"Videos-to-label\"\n",
    "filename = video_dir + \"/\" + \"video.mp4\"\n",
    "\n",
    "# Number to save a frame every \"per_frame\" frames\n",
    "per_frame = 500\n",
    "\n",
    "# Output directory where the image will be written\n",
    "output_dir = r\"C:/Users/lsu543/OneDrive - Schlumberger/Data-labelling-party/\" + dir_name\n",
    "\n",
    "height = int(720/2)\n",
    "width = int(1280/2)\n",
    "dim = (width, height)\n",
    "\n",
    "# Opens the Video file\n",
    "cap = cv2.VideoCapture(filename)\n",
    "i = 0\n",
    "while(cap.isOpened()):\n",
    "    ret, frame = cap.read()\n",
    "    if ret == False:\n",
    "        break\n",
    "    if i%per_frame == 0:\n",
    "        # Resize the image from 1280x720 to widthxheight\n",
    "        res = cv2.resize(frame, dim, interpolation=cv2.INTER_LINEAR)\n",
    "        # Save into images .jpg, output file to be modified accordingly \n",
    "        # (e.g. output_dir + \"/fig\" + str(i) + *insert the date here* + \".jpg\")\n",
    "        cv2.imwrite(output_dir + '/fig' + str(i) + \"_\" + filename[-25:-15] + \"_\" + filename[-12:-4] + \".jpg\", res)\n",
    "    i += 1\n",
    " \n",
    "cap.release()\n",
    "cv2.destroyAllWindows()"
   ]
  },
  {
   "cell_type": "code",
   "execution_count": null,
   "metadata": {},
   "outputs": [],
   "source": []
  }
 ],
 "metadata": {
  "kernelspec": {
   "display_name": "Python 3",
   "language": "python",
   "name": "python3"
  },
  "language_info": {
   "codemirror_mode": {
    "name": "ipython",
    "version": 3
   },
   "file_extension": ".py",
   "mimetype": "text/x-python",
   "name": "python",
   "nbconvert_exporter": "python",
   "pygments_lexer": "ipython3",
   "version": "3.6.5"
  }
 },
 "nbformat": 4,
 "nbformat_minor": 2
}
